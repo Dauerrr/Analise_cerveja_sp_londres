{
 "cells": [
  {
   "cell_type": "markdown",
   "id": "motivated-horizon",
   "metadata": {},
   "source": [
    "# Perfil de Consumo de Cerveja em São Paulo"
   ]
  },
  {
   "cell_type": "markdown",
   "id": "phantom-valve",
   "metadata": {},
   "source": [
    "## Código da analise dos dados obtidos pelo Forms"
   ]
  },
  {
   "cell_type": "markdown",
   "id": "alike-grace",
   "metadata": {},
   "source": [
    "#### Descrição: Código tem como objetivo tratar os dados coletados do Forms \" https://forms.gle/xppCcDAr8prN2e8cA \" e plotar gráficos para o mesmo."
   ]
  },
  {
   "cell_type": "markdown",
   "id": "overhead-course",
   "metadata": {},
   "source": [
    "### Importando Bibliotecas"
   ]
  },
  {
   "cell_type": "code",
   "execution_count": 1,
   "id": "streaming-sphere",
   "metadata": {},
   "outputs": [],
   "source": [
    "import numpy as np\n",
    "import plotly.express as px\n",
    "import folium\n",
    "import pandas as pd\n",
    "import matplotlib.pyplot as plt\n",
    "import re\n",
    "import requests\n",
    "import plotly.io as pio\n",
    "from bs4 import BeautifulSoup\n",
    "import plotly.graph_objects as go"
   ]
  },
  {
   "cell_type": "markdown",
   "id": "contained-monaco",
   "metadata": {},
   "source": [
    "### Localizando o Data Frame"
   ]
  },
  {
   "cell_type": "code",
   "execution_count": 7,
   "id": "front-roommate",
   "metadata": {},
   "outputs": [],
   "source": [
    "path = r'C:\\Users\\Pedro\\Documents\\Consumo-de-cerveja\\PerfilDeConsumo\\Perfil de Consumo de Cerveja em São Paulo (respostas) - Respostas ao formulário 1.tsv'"
   ]
  },
  {
   "cell_type": "markdown",
   "id": "normal-consent",
   "metadata": {},
   "source": [
    "### Importando os dados para o pandas"
   ]
  },
  {
   "cell_type": "code",
   "execution_count": 8,
   "id": "exotic-norman",
   "metadata": {},
   "outputs": [],
   "source": [
    "df = pd.read_csv(path, sep='\\t')"
   ]
  },
  {
   "cell_type": "code",
   "execution_count": 12,
   "id": "peaceful-commercial",
   "metadata": {},
   "outputs": [
    {
     "data": {
      "text/html": [
       "<div>\n",
       "<style scoped>\n",
       "    .dataframe tbody tr th:only-of-type {\n",
       "        vertical-align: middle;\n",
       "    }\n",
       "\n",
       "    .dataframe tbody tr th {\n",
       "        vertical-align: top;\n",
       "    }\n",
       "\n",
       "    .dataframe thead th {\n",
       "        text-align: right;\n",
       "    }\n",
       "</style>\n",
       "<table border=\"1\" class=\"dataframe\">\n",
       "  <thead>\n",
       "    <tr style=\"text-align: right;\">\n",
       "      <th></th>\n",
       "      <th>Carimbo de data/hora</th>\n",
       "      <th>Você tem mais de 18 anos ?</th>\n",
       "      <th>Você mora no estado de São Paulo ?</th>\n",
       "      <th>Qual tipo de cerveja você consome ?</th>\n",
       "      <th>Quanto o clima influencia no seu consumo de cerveja ?</th>\n",
       "      <th>Com qual frequência você consome cerveja ?</th>\n",
       "      <th>Qual marca comercial você consome ?</th>\n",
       "      <th>Qual marca artesanal você consome ?</th>\n",
       "    </tr>\n",
       "  </thead>\n",
       "  <tbody>\n",
       "    <tr>\n",
       "      <th>0</th>\n",
       "      <td>12/08/2021 10:18:16</td>\n",
       "      <td>Sim</td>\n",
       "      <td>Sim</td>\n",
       "      <td>Cerveja comercial/tradicional</td>\n",
       "      <td>Pouco</td>\n",
       "      <td>Final de semana</td>\n",
       "      <td>Heineken, Original, Stella Artois</td>\n",
       "      <td>Colorado Ithaca, Eisenbahn 5, Guinness Draught</td>\n",
       "    </tr>\n",
       "    <tr>\n",
       "      <th>1</th>\n",
       "      <td>12/08/2021 10:18:39</td>\n",
       "      <td>Sim</td>\n",
       "      <td>Sim</td>\n",
       "      <td>Cerveja comercial/tradicional, Cerveja artesanal</td>\n",
       "      <td>Pouco</td>\n",
       "      <td>Ambos</td>\n",
       "      <td>Heineken, Original, Stella Artois</td>\n",
       "      <td>Colorado Ithaca, Ashby, Eisenbahn 5</td>\n",
       "    </tr>\n",
       "    <tr>\n",
       "      <th>2</th>\n",
       "      <td>12/08/2021 10:21:24</td>\n",
       "      <td>Sim</td>\n",
       "      <td>Sim</td>\n",
       "      <td>Cerveja comercial/tradicional, Cerveja artesanal</td>\n",
       "      <td>Muito</td>\n",
       "      <td>Final de semana</td>\n",
       "      <td>Heineken, Original, Stella Artois</td>\n",
       "      <td>Wäls Dubbel, Baden Baden</td>\n",
       "    </tr>\n",
       "    <tr>\n",
       "      <th>3</th>\n",
       "      <td>12/08/2021 12:02:25</td>\n",
       "      <td>Sim</td>\n",
       "      <td>Sim</td>\n",
       "      <td>Cerveja comercial/tradicional</td>\n",
       "      <td>Muito</td>\n",
       "      <td>Ambos</td>\n",
       "      <td>Heineken, Stella Artois</td>\n",
       "      <td>Eisenbahn 5, Baden Baden</td>\n",
       "    </tr>\n",
       "    <tr>\n",
       "      <th>4</th>\n",
       "      <td>12/08/2021 12:02:26</td>\n",
       "      <td>Sim</td>\n",
       "      <td>Sim</td>\n",
       "      <td>Cerveja artesanal</td>\n",
       "      <td>Muito</td>\n",
       "      <td>Ambos</td>\n",
       "      <td>Skol, Brahma</td>\n",
       "      <td>Colorado Ithaca, Eisenbahn 5, Baden Baden, Gui...</td>\n",
       "    </tr>\n",
       "  </tbody>\n",
       "</table>\n",
       "</div>"
      ],
      "text/plain": [
       "  Carimbo de data/hora Você tem mais de 18 anos ?  \\\n",
       "0  12/08/2021 10:18:16                        Sim   \n",
       "1  12/08/2021 10:18:39                        Sim   \n",
       "2  12/08/2021 10:21:24                        Sim   \n",
       "3  12/08/2021 12:02:25                        Sim   \n",
       "4  12/08/2021 12:02:26                        Sim   \n",
       "\n",
       "  Você mora no estado de São Paulo ?  \\\n",
       "0                                Sim   \n",
       "1                                Sim   \n",
       "2                                Sim   \n",
       "3                                Sim   \n",
       "4                                Sim   \n",
       "\n",
       "                Qual tipo de cerveja você consome ?  \\\n",
       "0                     Cerveja comercial/tradicional   \n",
       "1  Cerveja comercial/tradicional, Cerveja artesanal   \n",
       "2  Cerveja comercial/tradicional, Cerveja artesanal   \n",
       "3                     Cerveja comercial/tradicional   \n",
       "4                                 Cerveja artesanal   \n",
       "\n",
       "  Quanto o clima influencia no seu consumo de cerveja ?  \\\n",
       "0                                              Pouco      \n",
       "1                                              Pouco      \n",
       "2                                              Muito      \n",
       "3                                              Muito      \n",
       "4                                              Muito      \n",
       "\n",
       "  Com qual frequência você consome cerveja ?  \\\n",
       "0                            Final de semana   \n",
       "1                                      Ambos   \n",
       "2                            Final de semana   \n",
       "3                                      Ambos   \n",
       "4                                      Ambos   \n",
       "\n",
       "  Qual marca comercial você consome ?  \\\n",
       "0   Heineken, Original, Stella Artois   \n",
       "1   Heineken, Original, Stella Artois   \n",
       "2   Heineken, Original, Stella Artois   \n",
       "3             Heineken, Stella Artois   \n",
       "4                        Skol, Brahma   \n",
       "\n",
       "                 Qual marca artesanal você consome ?  \n",
       "0     Colorado Ithaca, Eisenbahn 5, Guinness Draught  \n",
       "1                Colorado Ithaca, Ashby, Eisenbahn 5  \n",
       "2                           Wäls Dubbel, Baden Baden  \n",
       "3                           Eisenbahn 5, Baden Baden  \n",
       "4  Colorado Ithaca, Eisenbahn 5, Baden Baden, Gui...  "
      ]
     },
     "execution_count": 12,
     "metadata": {},
     "output_type": "execute_result"
    }
   ],
   "source": [
    "df.head()"
   ]
  },
  {
   "cell_type": "markdown",
   "id": "found-warrior",
   "metadata": {},
   "source": [
    "### Código do gráfico \"Você tem mais de 18 anos ?\""
   ]
  },
  {
   "cell_type": "code",
   "execution_count": 10,
   "id": "optical-school",
   "metadata": {},
   "outputs": [
    {
     "data": {
      "image/png": "[encoded data removed]",
      "text/plain": [
       "<Figure size 432x432 with 1 Axes>"
      ]
     },
     "metadata": {},
     "output_type": "display_data"
    }
   ],
   "source": [
    "coluna = df['Você tem mais de 18 anos ?']\n",
    "valor = coluna.value_counts()\n",
    "\n",
    "total = df['Você tem mais de 18 anos ?'].count()\n",
    "freq = (valor / total)\n",
    "\n",
    "plt.figure(figsize=(6,6))\n",
    "labels = [' Sim', 'Não']\n",
    "colors = ['#A43820', '#FFF8C6']\n",
    "explode = (.1, 0)\n",
    "\n",
    "\n",
    "plt.pie(freq, labels=labels ,  autopct='%1.1f%%',\n",
    "        colors=colors,\n",
    "        shadow = False, explode=explode)\n",
    "plt.savefig('Idade.png')\n",
    "plt.show()"
   ]
  },
  {
   "cell_type": "markdown",
   "id": "unsigned-wrapping",
   "metadata": {},
   "source": [
    "### Código do Gráfico \"Você mora no estado de SP ?\""
   ]
  },
  {
   "cell_type": "code",
   "execution_count": 56,
   "id": "designed-backup",
   "metadata": {},
   "outputs": [
    {
     "data": {
      "image/png": "[encoded data removed]",
      "text/plain": [
       "<Figure size 432x432 with 1 Axes>"
      ]
     },
     "metadata": {},
     "output_type": "display_data"
    }
   ],
   "source": [
    "coluna = df['Você mora no estado de São Paulo ?']\n",
    "valor = coluna.value_counts()\n",
    "\n",
    "total = df['Você mora no estado de São Paulo ?'].count()\n",
    "freq = (valor / total)\n",
    "\n",
    "plt.figure(figsize=(6,6))\n",
    "labels = [' Sim', 'Não']\n",
    "colors = ['#A43820', '#FFF8C6']\n",
    "explode = (.1, 0)\n",
    "\n",
    "\n",
    "plt.pie(freq, labels=labels ,  autopct='%1.1f%%', \n",
    "        colors=colors,\n",
    "        shadow = False, explode=explode)\n",
    "plt.savefig('Cidade.png')\n",
    "plt.show()"
   ]
  },
  {
   "cell_type": "markdown",
   "id": "introductory-planning",
   "metadata": {},
   "source": [
    "### Código do Gráfico \"Qual tipo de cerveja você consome ?\""
   ]
  },
  {
   "cell_type": "code",
   "execution_count": 14,
   "id": "proud-switch",
   "metadata": {},
   "outputs": [
    {
     "data": {
      "image/png": "[encoded data removed]",
      "text/plain": [
       "<Figure size 432x288 with 1 Axes>"
      ]
     },
     "metadata": {
      "needs_background": "light"
     },
     "output_type": "display_data"
    }
   ],
   "source": [
    "def gerador_de_graficos_forms(path):\n",
    "\n",
    "    lst_tipo_de_cerveja = list(df['Qual tipo de cerveja você consome ?'])\n",
    "    lst_tipo_de_cerveja_unique = ['Cerveja comercial/tradicional', 'Cerveja artesanal']\n",
    "\n",
    "    Cerveja_comercial_tradicional = 0\n",
    "    Cerveja_artesanal = 0\n",
    "\n",
    "    for i in lst_tipo_de_cerveja:\n",
    "        if i == 'Cerveja comercial/tradicional':\n",
    "                Cerveja_comercial_tradicional +=1\n",
    "        elif i == 'Cerveja artesanal':\n",
    "                Cerveja_artesanal += 1\n",
    "                \n",
    "    resultados = [Cerveja_comercial_tradicional, Cerveja_artesanal]\n",
    "# Gráfico sobre opinião dos entrevistados se eles preferem cerveja artesanal ou tradicional\n",
    "    plt.bar(lst_tipo_de_cerveja_unique, resultados)\n",
    "    plt.xlabel('Tipo de cerveja')\n",
    "    plt.ylabel('quantidade')\n",
    "    plt.title('Os entrevistados preferem cerveja Artesanal ou Tradicional?')\n",
    "    plt.show()\n",
    "    \n",
    "gerador_de_graficos_forms(path)"
   ]
  },
  {
   "cell_type": "markdown",
   "id": "nominated-luther",
   "metadata": {},
   "source": [
    "### Código do Gráfico \"Quanto o clima influencia no seu consumo de cerveja ?\""
   ]
  },
  {
   "cell_type": "code",
   "execution_count": 26,
   "id": "identical-aircraft",
   "metadata": {},
   "outputs": [
    {
     "data": {
      "image/png": "[encoded data removed]",
      "text/plain": [
       "<Figure size 432x432 with 1 Axes>"
      ]
     },
     "metadata": {},
     "output_type": "display_data"
    }
   ],
   "source": [
    "coluna = df['Quanto o clima influencia no seu consumo de cerveja ?']\n",
    "valor = coluna.value_counts()\n",
    "\n",
    "total = df['Quanto o clima influencia no seu consumo de cerveja ?'].count()\n",
    "freq = (valor / total)\n",
    "\n",
    "plt.figure(figsize=(6,6))\n",
    "labels = ['Muito', 'Pouco', 'Nada']\n",
    "colors = ['#A43820', '#FFF8C6', 'Salmon']\n",
    "explode = (.0, 0, 0)\n",
    "\n",
    "\n",
    "plt.pie(freq, labels=labels ,  autopct='%1.1f%%', colors=colors,\n",
    "        shadow = False, explode=explode)\n",
    "plt.savefig('Clima.png')\n",
    "plt.show()"
   ]
  },
  {
   "cell_type": "markdown",
   "id": "about-scoop",
   "metadata": {},
   "source": [
    "### Código do Gráfico\"Com qual frequência você consome cerveja ?\""
   ]
  },
  {
   "cell_type": "code",
   "execution_count": 45,
   "id": "numerical-platinum",
   "metadata": {},
   "outputs": [
    {
     "data": {
      "image/png": "[encoded data removed]",
      "text/plain": [
       "<Figure size 432x504 with 1 Axes>"
      ]
     },
     "metadata": {},
     "output_type": "display_data"
    }
   ],
   "source": [
    "coluna = df['Com qual frequência você consome cerveja ?']\n",
    "valor = coluna.value_counts()\n",
    "\n",
    "total = df['Com qual frequência você consome cerveja ?'].count()\n",
    "freq = (valor / total)\n",
    "\n",
    "plt.figure(figsize=(6,7))\n",
    "labels = ['Durante a semana', 'Final de semana']\n",
    "colors = ['#A43820', 'Salmon']\n",
    "explode = (.0, 0)\n",
    "\n",
    "\n",
    "plt.pie(freq, labels=labels ,  autopct='%1.1f%%', colors=colors,\n",
    "        shadow = False, explode=explode)\n",
    "plt.savefig('Frequencia.png')\n",
    "plt.show()"
   ]
  },
  {
   "cell_type": "markdown",
   "id": "wanted-venezuela",
   "metadata": {},
   "source": [
    "### Código do Gráfico\"Qual marca comercial você consome ?\""
   ]
  },
  {
   "cell_type": "code",
   "execution_count": 51,
   "id": "adult-punishment",
   "metadata": {},
   "outputs": [
    {
     "data": {
      "image/png": "[encoded data removed]",
      "text/plain": [
       "<Figure size 432x288 with 1 Axes>"
      ]
     },
     "metadata": {
      "needs_background": "light"
     },
     "output_type": "display_data"
    }
   ],
   "source": [
    "def gerador_de_graficos_forms_comercial(path):\n",
    "\n",
    "    lst_tipo_de_cerveja_comercial = list(df['Qual marca comercial você consome ?'])\n",
    "    lst_tipo_de_cerveja_comercial_unique = ['Skol', 'Heineken', 'Original', 'Stella Artois', 'Corona']\n",
    "\n",
    "    Skol = 0\n",
    "    Heineken = 0\n",
    "    Original = 0\n",
    "    Stella_Artois = 0\n",
    "    Corona = 0\n",
    "\n",
    "    for i in lst_tipo_de_cerveja_comercial:\n",
    "        if i == 'Skol':\n",
    "                Skol +=1\n",
    "        elif i == 'Heineken':\n",
    "                Heineken += 1\n",
    "        elif i == 'Original':\n",
    "                Original += 1\n",
    "        elif i == 'Stella Artois':\n",
    "                Stella_Artois += 1\n",
    "        elif i == 'Corona':\n",
    "                Corona += 1\n",
    "                \n",
    "    resultados = [Skol, Heineken, Original, Stella_Artois, Corona]\n",
    "# Gráfico sobre opinião dos entrevistados de qual cerveja comercial eles preferem\n",
    "    plt.bar(lst_tipo_de_cerveja_comercial_unique, resultados)\n",
    "    plt.xlabel('Tipo de cerveja comercial')\n",
    "    plt.ylabel('quantidade')\n",
    "    plt.title('Qual tipo de cerveja comercial os entrevistados preferem ?')\n",
    "    plt.show()\n",
    "    \n",
    "gerador_de_graficos_forms_comercial(path)"
   ]
  }
 ],
 "metadata": {
  "kernelspec": {
   "display_name": "Python 3",
   "language": "python",
   "name": "python3"
  },
  "language_info": {
   "codemirror_mode": {
    "name": "ipython",
    "version": 3
   },
   "file_extension": ".py",
   "mimetype": "text/x-python",
   "name": "python",
   "nbconvert_exporter": "python",
   "pygments_lexer": "ipython3",
   "version": "3.9.2"
  }
 },
 "nbformat": 4,
 "nbformat_minor": 5
}
